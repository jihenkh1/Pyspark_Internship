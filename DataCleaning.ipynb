{
 "cells": [
  {
   "cell_type": "code",
   "execution_count": 33,
   "metadata": {},
   "outputs": [],
   "source": [
    "from pyspark.sql import SparkSession \n",
    "from pyspark.sql.functions import col, isnan"
   ]
  },
  {
   "cell_type": "code",
   "execution_count": 34,
   "metadata": {},
   "outputs": [],
   "source": [
    "sparkSession = SparkSession.builder.appName('DataProcessing').getOrCreate() "
   ]
  },
  {
   "cell_type": "code",
   "execution_count": 35,
   "metadata": {},
   "outputs": [],
   "source": [
    "df_pyspark = sparkSession.read.csv(\n",
    "    'activation_fixe.csv', \n",
    "    header=True, \n",
    "    inferSchema=True,\n",
    "    sep=';'  \n",
    ") "
   ]
  },
  {
   "cell_type": "code",
   "execution_count": 36,
   "metadata": {},
   "outputs": [
    {
     "name": "stdout",
     "output_type": "stream",
     "text": [
      "root\n",
      " |-- ID: string (nullable = true)\n",
      " |-- KIT_CODE: string (nullable = true)\n",
      " |-- SIM: string (nullable = true)\n",
      " |-- _c3: string (nullable = true)\n",
      " |-- COMPLEMENT: integer (nullable = true)\n",
      " |-- FIRST_NAME: string (nullable = true)\n",
      " |-- LAST_NAME: string (nullable = true)\n",
      " |-- PHONE: string (nullable = true)\n",
      " |-- PROFESSION: string (nullable = true)\n",
      " |-- OFFRE: string (nullable = true)\n",
      " |-- DEBIT: string (nullable = true)\n",
      " |-- MODE_PAIEMENT: integer (nullable = true)\n",
      " |-- BIRTH_DATE: string (nullable = true)\n",
      " |-- COUNTRY: integer (nullable = true)\n",
      " |-- _c14: string (nullable = true)\n",
      " |-- ID_TYPE: integer (nullable = true)\n",
      " |-- ENTREPRISE_NAME: string (nullable = true)\n",
      " |-- ACTIVITY_DOMAIN: string (nullable = true)\n",
      " |-- TRADE_REGISTER_NUMBER: string (nullable = true)\n",
      " |-- ADDRESS: string (nullable = true)\n",
      " |-- CITY: string (nullable = true)\n",
      " |-- GOVERNORATE: string (nullable = true)\n",
      " |-- POSTAL_CODE: integer (nullable = true)\n",
      " |-- EMAIL: string (nullable = true)\n",
      " |-- FAX: string (nullable = true)\n",
      " |-- OPERATION_STATUS: integer (nullable = true)\n",
      " |-- OPERATION_STATUS_DATE: string (nullable = true)\n",
      " |-- DEALER_ID: string (nullable = true)\n",
      " |-- TYPE: integer (nullable = true)\n",
      " |-- USER_ID: string (nullable = true)\n",
      " |-- TRANSACTION_STATUS: integer (nullable = true)\n",
      " |-- TRANSACTION_STATUS_DATE: string (nullable = true)\n",
      " |-- _c32: string (nullable = true)\n",
      " |-- CREATION_DATE: string (nullable = true)\n",
      " |-- NATIONALITY: string (nullable = true)\n",
      " |-- MESSAGE: string (nullable = true)\n",
      " |-- CONTRACT_RECEPTION_DATE: string (nullable = true)\n",
      " |-- CONTRACT_RECIEVED: integer (nullable = true)\n",
      " |-- COMMISSION: integer (nullable = true)\n",
      " |-- AMOUNT: integer (nullable = true)\n",
      " |-- PAYMENT_REFERENCE: string (nullable = true)\n",
      " |-- COMMISSIONED: integer (nullable = true)\n",
      " |-- ANOMALY: integer (nullable = true)\n",
      " |-- ID_BSCS_TRANSACTION: string (nullable = true)\n",
      " |-- TMCODE: integer (nullable = true)\n",
      " |-- PACKAGE_TYPE: string (nullable = true)\n",
      " |-- ACTIVATION_TYPE: integer (nullable = true)\n",
      " |-- IP: string (nullable = true)\n",
      " |-- _c48: string (nullable = true)\n",
      " |-- CO_ID: string (nullable = true)\n",
      " |-- ADSL_LOGIN: string (nullable = true)\n",
      " |-- ADSL_PASSWORD: string (nullable = true)\n",
      " |-- SIP_LOGIN: string (nullable = true)\n",
      " |-- SIP_PASSWORD: string (nullable = true)\n",
      " |-- DELEGATION: string (nullable = true)\n",
      " |-- NUM_SERIE_CLE: string (nullable = true)\n",
      " |-- FLAG: integer (nullable = true)\n",
      " |-- DATE_MAJ_FLAG: string (nullable = true)\n",
      " |-- FRAIS_RACCORD: string (nullable = true)\n",
      " |-- PIN: string (nullable = true)\n",
      " |-- LATITUDE: string (nullable = true)\n",
      " |-- LONGITUDE: string (nullable = true)\n",
      " |-- DATE_RENDEZ_VOUS: string (nullable = true)\n",
      " |-- NOM_IMMEUBLE: string (nullable = true)\n",
      " |-- BLOC: string (nullable = true)\n",
      " |-- ETAGE: string (nullable = true)\n",
      " |-- NUM_APPART: string (nullable = true)\n",
      " |-- ONT_SN: string (nullable = true)\n",
      " |-- ONT: string (nullable = true)\n",
      " |-- LEVEL4: integer (nullable = true)\n",
      " |-- TYPE_FILE_IDENTITE_RSCAN: string (nullable = true)\n",
      " |-- TYPE_FILE_IDENTITE_VSCAN: string (nullable = true)\n",
      " |-- TYPE_FILE_CONTRAT: string (nullable = true)\n",
      " |-- TYPE_FILE_ABONNEMENT: string (nullable = true)\n",
      " |-- TYPE_FILE_CONDITION: string (nullable = true)\n",
      " |-- CASEID: integer (nullable = true)\n",
      " |-- CASE_DATE: string (nullable = true)\n",
      " |-- SNCODE: string (nullable = true)\n",
      " |-- BTS: string (nullable = true)\n",
      " |-- FLAG_BTS: string (nullable = true)\n",
      " |-- DATE_UPDATE_BTS: string (nullable = true)\n",
      " |-- REPETITEUR: string (nullable = true)\n",
      " |-- REP_FLAG: string (nullable = true)\n",
      " |-- SLA: integer (nullable = true)\n",
      "\n"
     ]
    }
   ],
   "source": [
    "df_pyspark.printSchema() "
   ]
  },
  {
   "cell_type": "code",
   "execution_count": 37,
   "metadata": {},
   "outputs": [
    {
     "name": "stdout",
     "output_type": "stream",
     "text": [
      "+----------+--------------+----+----+----------+--------------+------------+-----+----------+--------------------+-----+-------------+-------------------+-------+----+-------+---------------+---------------+---------------------+--------------------+----------------+-----------+-----------+--------------------+----+----------------+---------------------+---------+----+-------+------------------+-----------------------+----+-------------------+-----------+-------+-----------------------+-----------------+----------+------+-----------------+------------+-------+--------------------+------+------------+---------------+----+----+-----------+-----------------+-------------+--------------------+------------+-------------+-------------+----+-------------+-------------+----+------------------+------------------+----------------+------------+----+-----+----------+---------------+----+------+------------------------+------------------------+-----------------+--------------------+-------------------+---------+-------------------+------+---------+--------+-------------------+----------+--------+----+\n",
      "|        ID|      KIT_CODE| SIM| _c3|COMPLEMENT|    FIRST_NAME|   LAST_NAME|PHONE|PROFESSION|               OFFRE|DEBIT|MODE_PAIEMENT|         BIRTH_DATE|COUNTRY|_c14|ID_TYPE|ENTREPRISE_NAME|ACTIVITY_DOMAIN|TRADE_REGISTER_NUMBER|             ADDRESS|            CITY|GOVERNORATE|POSTAL_CODE|               EMAIL| FAX|OPERATION_STATUS|OPERATION_STATUS_DATE|DEALER_ID|TYPE|USER_ID|TRANSACTION_STATUS|TRANSACTION_STATUS_DATE|_c32|      CREATION_DATE|NATIONALITY|MESSAGE|CONTRACT_RECEPTION_DATE|CONTRACT_RECIEVED|COMMISSION|AMOUNT|PAYMENT_REFERENCE|COMMISSIONED|ANOMALY| ID_BSCS_TRANSACTION|TMCODE|PACKAGE_TYPE|ACTIVATION_TYPE|  IP|_c48|      CO_ID|       ADSL_LOGIN|ADSL_PASSWORD|           SIP_LOGIN|SIP_PASSWORD|   DELEGATION|NUM_SERIE_CLE|FLAG|DATE_MAJ_FLAG|FRAIS_RACCORD| PIN|          LATITUDE|         LONGITUDE|DATE_RENDEZ_VOUS|NOM_IMMEUBLE|BLOC|ETAGE|NUM_APPART|         ONT_SN| ONT|LEVEL4|TYPE_FILE_IDENTITE_RSCAN|TYPE_FILE_IDENTITE_VSCAN|TYPE_FILE_CONTRAT|TYPE_FILE_ABONNEMENT|TYPE_FILE_CONDITION|   CASEID|          CASE_DATE|SNCODE|      BTS|FLAG_BTS|    DATE_UPDATE_BTS|REPETITEUR|REP_FLAG| SLA|\n",
      "+----------+--------------+----+----+----------+--------------+------------+-----+----------+--------------------+-----+-------------+-------------------+-------+----+-------+---------------+---------------+---------------------+--------------------+----------------+-----------+-----------+--------------------+----+----------------+---------------------+---------+----+-------+------------------+-----------------------+----+-------------------+-----------+-------+-----------------------+-----------------+----------+------+-----------------+------------+-------+--------------------+------+------------+---------------+----+----+-----------+-----------------+-------------+--------------------+------------+-------------+-------------+----+-------------+-------------+----+------------------+------------------+----------------+------------+----+-----+----------+---------------+----+------+------------------------+------------------------+-----------------+--------------------+-------------------+---------+-------------------+------+---------+--------+-------------------+----------+--------+----+\n",
      "|62 392 409|20200301753572|NULL|NULL|         1|         ramzi|      rached| NULL|      NULL|Pack Fixe Jdid 10...|  10M|         NULL|02/21/1982 00:00:00|      1|NULL|      2|           NULL|           NULL|                 NULL|    Moknine, Tunisie|         MOKNINE|   MONASTIR|       5050|3s.moknine@gmail.com|NULL|               0|  07/02/2024 11:13:07|D32MO1007|   1|  3 976|                 0|    07/02/2024 11:13:07|NULL|07/02/2024 11:13:07|       NULL|   NULL|                   NULL|                0|         0|     0|             NULL|           1|      0|1c6644ff-576d-4ff...|   293|        NULL|              2|NULL|NULL|106 558 574|             NULL|         NULL|                NULL|        NULL|      MOKNINE|         NULL|   0|         NULL|            N|NULL| 35.63611361448751| 10.89349453212431|            NULL|        NULL|NULL| NULL|      NULL|868553060448288|NULL|     0|              image/jpeg|              image/jpeg|       image/jpeg|          image/jpeg|         image/jpeg|     NULL|               NULL| 2 277|MON1052_1|       Y|07/02/2024 11:13:19|      NULL|    NULL|NULL|\n",
      "|62 392 307|20200304423852|NULL|NULL|         1|          OMAR|   ABDELKEFI| NULL|      NULL|Pack Fixe Jdid 10...| NULL|         NULL|08/10/1987 00:00:00|      1|NULL|      1|           NULL|           NULL|                 NULL| 34.792108,10.715941|  MERKEZ SAHNOUN|       SFAX|       3012|omar.abdelkefi87@...|NULL|               0|  07/02/2024 11:09:34|D01SX1060|   1|  3 082|                 0|    07/02/2024 11:09:34|NULL|07/02/2024 11:09:33|       NULL|   NULL|                   NULL|                0|         0|     0|             NULL|           1|      0|6bbff4cd-1fcb-49e...|   293|        NULL|              2|NULL|NULL|106 558 480|             NULL|         NULL|                NULL|        NULL|     SFAX SUD|         NULL|   0|         NULL|            N|NULL|         34.792108|         10.715941|            NULL|      MILADI|NULL|    2|        22|868553060303095|NULL|     0|         application/pdf|         application/pdf|  application/pdf|     application/pdf|    application/pdf|     NULL|               NULL| 2 277|SFX1024_2|       Y|07/02/2024 11:09:38|      NULL|    NULL|NULL|\n",
      "|62 391 994|20200304294397|NULL|NULL|         1|       SAADIA |     JEBALI | NULL|      NULL|Pack Fixe Jdid 10...|  10M|         NULL|11/02/1953 00:00:00|      1|NULL|      1|           NULL|           NULL|                 NULL| Hammam Lif, Tunisie|      HAMMAM LIF|  BEN AROUS|       2050|   saberal@gmail.com|NULL|               0|  07/02/2024 10:59:54|D04TU1026|   1|    889|                 0|    07/02/2024 10:59:54|NULL|07/02/2024 10:59:54|       NULL|   NULL|                   NULL|                0|         0|     0|             NULL|           1|      0|44a15fd6-a657-464...|   293|        NULL|              2|NULL|NULL|106 558 274|             NULL|         NULL|                NULL|        NULL|   HAMMAM LIF|         NULL|   0|         NULL|            N|NULL|36.725926549968975|10.352044297669924|            NULL|        NULL|NULL| NULL|      NULL|868553060387635|NULL|     0|         application/pdf|         application/pdf|  application/pdf|     application/pdf|    application/pdf|     NULL|               NULL| 2 277|BAR1049_1|       Y|07/02/2024 10:59:57|      NULL|    NULL|NULL|\n",
      "|62 391 641|20200304263271|NULL|NULL|         1|         lioua|      qendil| NULL|      NULL|Pack Fixe Jdid 10...|  10M|         NULL|09/27/1999 00:00:00|      1|NULL|      1|           NULL|           NULL|                 NULL|36.861814, 10.180372|          ARIANA|     ARIANA|       2080|     lioua@gmail.com|NULL|               0|  07/02/2024 10:45:59|D29BE1020|   1|  4 554|                 0|    07/02/2024 10:45:59|NULL|07/02/2024 10:45:58|       NULL|   NULL|                   NULL|                0|         0|     0|             NULL|           1|      0|d4d0b566-2d1c-4dd...|   293|        NULL|              2|NULL|NULL|106 557 970|             NULL|         NULL|                NULL|        NULL|       ARIANA|         NULL|   0|         NULL|            N|NULL|         36.861814|         10.180372|            NULL|        NULL|NULL| NULL|      NULL|868553060390282|NULL|     0|         application/pdf|         application/pdf|  application/pdf|     application/pdf|    application/pdf|     NULL|               NULL| 2 277|TUN1028_1|       Y|07/02/2024 10:46:03|      NULL|    NULL|NULL|\n",
      "|62 386 404|20200303380580|NULL|NULL|         1|          SAMI|     METIMET| NULL|      NULL|Pack Fixe Jdid 10...|  10M|         NULL|05/11/1976 00:00:00|      1|NULL|      1|           NULL|           NULL|                 NULL|route de medenine...|      EL MOUENSA|   MEDENINE|       4144|samimtimezz@gmail...|NULL|               0|  07/01/2024 22:00:15|D39MD1004|   1|  4 476|                 1|    07/02/2024 10:34:10|NULL|07/01/2024 22:00:14|       NULL|   NULL|                   NULL|                0|         0|     0|             NULL|           1|      0|cb72b176-4733-4ba...|   293|        NULL|              2|NULL|NULL|106 554 632|             NULL|         NULL|                NULL|        NULL|       ZARZIS|         NULL|   0|         NULL|            N|NULL| 33.49008049461064|11.074392547009904|            NULL|        NULL|NULL| NULL|      NULL|868553060336996|NULL|     0|         application/pdf|         application/pdf|  application/pdf|     application/pdf|    application/pdf|177691315|07/02/2024 10:34:10| 2 277|MED1041_3|       Y|07/01/2024 22:00:25|      NULL|    NULL|NULL|\n",
      "|62 386 286|20200304323523|NULL|NULL|         1|        khawla|  bou namcha| NULL|      NULL|Pack Fixe Jdid 10...|  10M|         NULL|12/23/1996 00:00:00|      1|NULL|      1|           NULL|           NULL|                 NULL|              elhzem|          MIDOUN|   MEDENINE|       4116|elmeyooredoo66@gm...|NULL|               0|  07/01/2024 21:51:19|D01DJ1007|   1|  1 532|                 1|    07/02/2024 10:33:39|NULL|07/01/2024 21:51:19|       NULL|   NULL|                   NULL|                0|         0|     0|             NULL|           1|      0|c1190deb-1427-44d...|   293|        NULL|              2|NULL|NULL|106 554 584|             NULL|         NULL|                NULL|        NULL|       MIDOUN|         NULL|   0|         NULL|            N|NULL|33.797515759392496|10.948175172683499|            NULL|           M|   1|    1|         1|868553060363008|NULL|     0|         application/pdf|         application/pdf|  application/pdf|     application/pdf|    application/pdf|177691313|07/02/2024 10:33:39| 2 277|MED1066_2|       Y|07/01/2024 21:51:26|      NULL|    NULL|NULL|\n",
      "|62 386 206|20200302817571|NULL|NULL|         1|Mohamed Lamine|       BACHA| NULL|      NULL|Pack Fixe Jdid 10...|  10M|         NULL|06/14/1986 00:00:00|      1|NULL|      1|           NULL|           NULL|                 NULL| 36.763416,10.281201|   RADES MELIANE|  BEN AROUS|       2098|medaminebacha138@...|NULL|               0|  07/01/2024 21:34:21|D22CB1008|   1|  4 211|                 1|    07/02/2024 10:32:12|NULL|07/01/2024 21:34:21|       NULL|   NULL|                   NULL|                0|         0|     0|             NULL|           1|      0|4168f839-3019-4f7...|   293|        NULL|              2|NULL|NULL|106 554 545|             NULL|         NULL|                NULL|        NULL|        RADES|         NULL|   0|         NULL|            N|NULL|         36.763416|         10.281201|            NULL|        NULL|NULL| NULL|      NULL|868553060413118|NULL|     0|              image/jpeg|         application/pdf|       image/jpeg|          image/jpeg|         image/jpeg|177691309|07/02/2024 10:32:12| 2 277|BAR1088_3|       Y|07/01/2024 21:34:31|      NULL|    NULL|NULL|\n",
      "|62 386 036|20200304323524|NULL|NULL|         1|      azzedine|  ben  zayed| NULL|      NULL|Pack Fixe Jdid 10...|  10M|         NULL|05/28/1953 00:00:00|      1|NULL|      1|           NULL|           NULL|                 NULL|               fatou|           JERBA|   MEDENINE|       4180|elmeyooredoo66@gm...|NULL|               0|  07/01/2024 21:19:47|D01DJ1007|   1|  1 532|                 1|    07/02/2024 10:31:44|NULL|07/01/2024 21:19:47|       NULL|   NULL|                   NULL|                0|         0|     0|             NULL|           1|      0|9d8db51f-4274-4d6...|   293|        NULL|              2|NULL|NULL|106 554 486|             NULL|         NULL|                NULL|        NULL|HOUMET ESSOUK|         NULL|   0|         NULL|            N|NULL|33.875147559637654|10.877691388503642|            NULL|           M|   1|    1|         1|868553060362893|NULL|     0|         application/pdf|         application/pdf|  application/pdf|     application/pdf|    application/pdf|177691308|07/02/2024 10:31:44| 2 277|MED1001_1|       Y|07/01/2024 21:19:54|      NULL|    NULL|NULL|\n",
      "|62 385 618|20200304323511|NULL|NULL|         1|   mohamed ali|      lajimi| NULL|      NULL|Pack Fixe Jdid 10...|  10M|         NULL|07/20/1994 00:00:00|      1|NULL|      1|           NULL|           NULL|                 NULL|              midoun|          MIDOUN|   MEDENINE|       4116|elmeyooredoo66@gm...|NULL|               0|  07/01/2024 20:46:41|D01DJ1007|   1|  1 532|                 1|    07/02/2024 10:31:16|NULL|07/01/2024 20:46:41|       NULL|   NULL|                   NULL|                0|         0|     0|             NULL|           1|      0|39007859-88fc-4e9...|   293|        NULL|              2|NULL|NULL|106 554 275|             NULL|         NULL|                NULL|        NULL|       MIDOUN|         NULL|   0|         NULL|            N|NULL| 33.80005407051999|11.014736360013817|            NULL|           M|   1|    1|         1|868553060363149|NULL|     0|         application/pdf|         application/pdf|  application/pdf|     application/pdf|    application/pdf|177691305|07/02/2024 10:31:16| 2 277|MED1174_1|       Y|07/01/2024 20:46:50|      NULL|    NULL|NULL|\n",
      "|62 390 895|20200304319804|NULL|NULL|         1|        HASSEN|       ABIDA| NULL|      NULL|Pack Fixe Jdid 10...|  10M|         NULL|02/12/1995 00:00:00|      1|NULL|      1|           NULL|           NULL|                 NULL|RTE TUNIS KM 9 CI...|    SAKIET EZZIT|       SFAX|       3021|Hassenabida0@gmai...|NULL|               0|  07/02/2024 10:24:46|D01SX1026|   1|  1 450|                 0|    07/02/2024 10:24:46|NULL|07/02/2024 10:24:46|       NULL|   NULL|                   NULL|                0|         0|     0|             NULL|           1|      0|50dc75f9-2ac2-4e8...|   293|        NULL|              2|NULL|NULL|106 557 498|             NULL|         NULL|                NULL|        NULL| SAKIET EZZIT|         NULL|   0|         NULL|            N|NULL|34.824538241601495|10.756789183542637|            NULL|      MAISON|   A|    1|         1|868553060363057|NULL|     0|         application/pdf|         application/pdf|  application/pdf|     application/pdf|    application/pdf|     NULL|07/02/2024 10:34:42| 2 277|SFX1154_1|       Y|07/02/2024 10:24:52|      NULL|    NULL|NULL|\n",
      "|62 390 590|20200304062385|NULL|NULL|         2|          imen|       nemer| NULL|      NULL|Pack Fixe Jdid 10...|  10M|         NULL|11/08/1992 00:00:00|      1|NULL|      1|           NULL|           NULL|                 NULL|36.84645403762731...|         KELIBIA|     NABEUL|       8090|   pierzp5@gmail.com|NULL|               0|  07/02/2024 10:10:29|D01CB1015|   1|    203|                 0|    07/02/2024 10:10:29|NULL|07/02/2024 10:10:29|       NULL|   NULL|                   NULL|                0|         0|     0|             NULL|           1|      0|62b3b3be-21be-420...|   293|        NULL|              2|NULL|NULL|106 557 165|             NULL|         NULL|                NULL|        NULL|      KELIBIA|         NULL|   0|         NULL|            N|NULL| 36.84645403762731|11.087436972760067|            NULL|           0|   0|    0|         0|868553060362943|NULL|     0|              image/jpeg|              image/jpeg|       image/jpeg|          image/jpeg|         image/jpeg|     NULL|07/02/2024 10:34:40| 2 277|NAB1019_2|       Y|07/02/2024 10:10:42|      NULL|    NULL|NULL|\n",
      "|62 389 476|20200302287702|NULL|NULL|         1|        mongi |   mezdiari | NULL|      NULL|Pack Fixe Jdid 10...|  10M|         NULL|04/03/1961 00:00:00|      1|NULL|      1|           NULL|           NULL|                 NULL|33.795456, 11.011152|          MIDOUN|   MEDENINE|       4116|mawahebabbassi258...|NULL|               0|  07/02/2024 09:30:12|D11DJ1013|   1|  4 662|                 0|    07/02/2024 09:30:12|NULL|07/02/2024 09:30:12|       NULL|   NULL|                   NULL|                0|         0|     0|             NULL|           1|      0|811c7c6c-8e42-417...|   293|        NULL|              2|NULL|NULL|106 556 349|             NULL|         NULL|                NULL|        NULL|       MIDOUN|         NULL|   0|         NULL|            N|NULL|         33.795456|         11.011152|            NULL|       mongi|   1|    1|         1|868553060321196|NULL|     0|              image/jpeg|              image/jpeg|       image/jpeg|          image/jpeg|         image/jpeg|     NULL|07/02/2024 10:34:14| 2 277|MED1174_1|       Y|07/02/2024 09:30:20|      NULL|    NULL|NULL|\n",
      "|62 385 062|20200304164131|NULL|NULL|         1|         Ridha|     Bouzidi| NULL|      NULL|Pack Fixe Jdid 10...|  10M|         NULL|07/22/1977 00:00:00|      1|NULL|      1|           NULL|           NULL|                 NULL|Rue abdelazie the...|    SIDI HASSINE|      TUNIS|       1095|techvisite2020@gm...|NULL|               0|  07/01/2024 20:11:52|D32TU3021|   1|  4 576|                 1|    07/02/2024 07:31:13|NULL|07/01/2024 20:11:52|       NULL|   NULL|                   NULL|                0|         0|     0|             NULL|           1|      0|89707f16-cca9-439...|   293|        NULL|              2|NULL|NULL|106 553 902|             NULL|         NULL|                NULL|        NULL| SIDI HASSINE|         NULL|   0|         NULL|            N|NULL| 36.77372483550619|10.108432289174528|            NULL|        NULL|NULL| NULL|      NULL|868553060345914|NULL|     0|              image/jpeg|              image/jpeg|       image/jpeg|          image/jpeg|         image/jpeg|177688670|07/02/2024 07:31:13| 2 277|TUN1101_2|       Y|07/01/2024 20:12:06|      NULL|    NULL|NULL|\n",
      "|62 383 010|20200304142154|NULL|NULL|         2|         hamdi|       afifa| NULL|      NULL|Pack Fixe Jdid 10...| NULL|         NULL|01/10/1989 00:00:00|      1|NULL|      1|           NULL|           NULL|                 NULL|36.835391,10.1079131| CITE ETTADHAMEN|     ARIANA|       2041|jandoubiwiem@gmai...|NULL|               0|  07/01/2024 18:18:18|D12TU2016|   1|    433|                 1|    07/01/2024 20:32:01|NULL|07/01/2024 18:18:18|       NULL|   NULL|                   NULL|                0|         0|     0|             NULL|           1|      0|967d464a-0f05-43a...|   293|        NULL|              2|NULL|NULL|106 552 401|             NULL|         NULL|                NULL|        NULL|   ETTADHAMEN|         NULL|   0|         NULL|            N|NULL|         36.835391|        10.1079131|            NULL|        NULL|NULL| NULL|      NULL|868553060292769|NULL|     0|              image/jpeg|              image/jpeg|       image/jpeg|          image/jpeg|         image/jpeg|177687160|07/01/2024 20:32:01| 2 277|TUN1086_3|       Y|07/01/2024 18:18:27|      NULL|    NULL|NULL|\n",
      "|62 382 170|20200303267631|NULL|NULL|         1|          ali |        away| NULL|      NULL|Pack Fixe Jdid 10...|  10M|         NULL|10/14/1953 00:00:00|      1|NULL|      1|           NULL|           NULL|                 NULL|      erriadh djerba|         ERRIADH|   MEDENINE|       4146|      kjghk@kkjhj.fr|NULL|               0|  07/01/2024 17:42:11|D01DJ1019|   1|  3 152|                 1|    07/01/2024 20:31:14|NULL|07/01/2024 17:42:11|       NULL|   NULL|                   NULL|                0|         0|     0|             NULL|           1|      0|e8227db1-3ba4-45f...|   293|        NULL|              2|NULL|NULL|106 551 778|             NULL|         NULL|                NULL|        NULL|HOUMET ESSOUK|         NULL|   0|         NULL|            N|NULL|  33.8197370988828|10.856584982999497|            NULL|           1|   1|    1|         1|868553060430831|NULL|     0|              image/jpeg|              image/jpeg|       image/jpeg|          image/jpeg|         image/jpeg|177687158|07/01/2024 20:31:14| 2 277|MED1135_2|       Y|07/01/2024 17:42:18|      NULL|    NULL|NULL|\n",
      "|62 381 530|  ALCLB4174BCF|NULL|NULL|         1|          sana|        arbi| NULL|      NULL|                 210|  20M|         NULL|06/29/1973 00:00:00|      1|NULL|      1|           NULL|           NULL|                 NULL|   La Marsa, Tunisie|    MARSA SAFSAF|      TUNIS|       2078|souphonehouse44@g...|NULL|               0|  07/01/2024 17:12:16|D22TU1009|   1|  3 523|                 1|    07/01/2024 20:00:08|NULL|07/01/2024 17:12:16|       NULL|   NULL|                   NULL|                0|         0|     0|             NULL|           1|      0|26572636-5ffa-4b8...|   210|        NULL|           NULL|NULL|NULL|       NULL|xcajsnbz@tunet.tn|     CcA3J45A|21636704931@sip.t...|f7a4xGQ8ka5b|     LA MARSA|         NULL|   0|         NULL|            N|NULL|36.883869093765576|10.334213658952324|            NULL|   sana arbi|NULL| NULL|      NULL|   ALCLB4174BCF|NULL|     0|              image/jpeg|              image/jpeg|       image/jpeg|          image/jpeg|         image/jpeg|177686677|07/01/2024 20:00:08| 2 118|     NULL|    NULL|               NULL|      NULL|    NULL|   5|\n",
      "|62 379 918|20200302943123|NULL|NULL|         1|         SELIM|ELKHANCHOUCH| NULL|      NULL|Pack Fixe Jdid 10...| NULL|         NULL|05/30/1984 00:00:00|      1|NULL|      1|           NULL|           NULL|                 NULL| Houmt Souk, Tunisie|           JERBA|   MEDENINE|       4180|safatisafa9@gmail...|NULL|               0|  07/01/2024 15:40:21|D29DJ1005|   1|  3 224|                 1|    07/01/2024 18:30:57|NULL|07/01/2024 15:40:20|       NULL|   NULL|                   NULL|                0|         0|     0|             NULL|           1|      0|3159da5b-4986-4c0...|   293|        NULL|              2|NULL|NULL|106 550 018|             NULL|         NULL|                NULL|        NULL|HOUMET ESSOUK|         NULL|   0|         NULL|            N|NULL|33.886209085533466|10.854921986230485|            NULL|        NULL|   1|    3|         4|868553060359808|NULL|     0|              image/jpeg|              image/jpeg|       image/jpeg|          image/jpeg|         image/jpeg|177685818|07/01/2024 18:30:57| 2 277|MED1092_3|       Y|07/01/2024 15:40:27|      NULL|    NULL|NULL|\n",
      "|62 379 874|20200303966308|NULL|NULL|         1|      BEN AMOR|      FAKHRI| NULL|      NULL|Pack Fixe Jdid 10...| NULL|         NULL|01/10/1997 00:00:00|      1|NULL|      1|           NULL|           NULL|                 NULL| 33.528404 11.111069|          ZARZIS|   MEDENINE|       4149|    FATHRI@GMAIL.COM|NULL|               0|  07/01/2024 15:37:37|D04ZR1001|   1|    906|                 1|    07/01/2024 18:30:32|NULL|07/01/2024 15:37:37|       NULL|   NULL|                   NULL|                0|         0|     0|             NULL|           1|      0|4decee0a-535b-47a...|   293|        NULL|              2|NULL|NULL|106 549 997|             NULL|         NULL|                NULL|        NULL|       ZARZIS|         NULL|   0|         NULL|            N|NULL|         33.528404|         11.111069|            NULL|        NULL|NULL| NULL|      NULL|868553060299236|NULL|     0|              image/jpeg|              image/jpeg|       image/jpeg|          image/jpeg|         image/jpeg|177685816|07/01/2024 18:30:32| 2 277|MED1097_2|       Y|07/01/2024 15:37:45|      NULL|    NULL|NULL|\n",
      "|62 379 279|20200303267735|NULL|NULL|         1|        khaled|     kharoui| NULL|      NULL|Pack Fixe Jdid 10...| NULL|         NULL|02/28/1975 00:00:00|      1|NULL|      1|           NULL|           NULL|                 NULL|33.588098 11.0764336|     CITE SANGHO|   MEDENINE|       4173|   kharoui@gmail.com|NULL|               0|  07/01/2024 14:30:21|D04ZR1001|   1|    906|                 1|    07/01/2024 16:31:36|NULL|07/01/2024 14:30:21|       NULL|   NULL|                   NULL|                0|         0|     0|             NULL|           1|      0|c5928ed1-a380-4a9...|   293|        NULL|              2|NULL|NULL|106 549 320|             NULL|         NULL|                NULL|        NULL|       ZARZIS|         NULL|   0|         NULL|            N|NULL|         33.588098|        11.0764336|            NULL|        NULL|NULL| NULL|      NULL|868553060305272|NULL|     0|              image/jpeg|              image/jpeg|       image/jpeg|          image/jpeg|         image/jpeg|177684103|07/01/2024 16:31:36| 2 277|MED1031_1|       Y|07/01/2024 14:30:25|      NULL|    NULL|NULL|\n",
      "|62 378 734|20200300883877|NULL|NULL|         1|        MAKRAM|      KHATIB| NULL|      NULL|Pack Fixe Jdid 10...|  10M|         NULL|03/05/1988 00:00:00|      1|NULL|      1|           NULL|           NULL|                 NULL| 33.868756,10.113826|CITE EZZOUHOUR 1|      GABES|       5020|makramkhatib@gmai...|NULL|               0|  07/01/2024 13:35:43|D11GB1016|   1|  4 362|                 1|    07/01/2024 16:31:08|NULL|07/01/2024 13:35:43|       NULL|   NULL|                   NULL|                0|         0|     0|             NULL|           1|      0|88c0f16d-e334-416...|   293|        NULL|              2|NULL|NULL|106 548 594|             NULL|         NULL|                NULL|        NULL|    GABES SUD|         NULL|   0|         NULL|            N|NULL|         33.868756|         10.113826|            NULL|        NULL|NULL| NULL|      NULL|868553060283677|NULL|     0|              image/jpeg|              image/jpeg|       image/jpeg|          image/jpeg|         image/jpeg|177684101|07/01/2024 16:31:08| 2 277|GAB1133_1|       Y|07/01/2024 13:35:51|      NULL|    NULL|NULL|\n",
      "+----------+--------------+----+----+----------+--------------+------------+-----+----------+--------------------+-----+-------------+-------------------+-------+----+-------+---------------+---------------+---------------------+--------------------+----------------+-----------+-----------+--------------------+----+----------------+---------------------+---------+----+-------+------------------+-----------------------+----+-------------------+-----------+-------+-----------------------+-----------------+----------+------+-----------------+------------+-------+--------------------+------+------------+---------------+----+----+-----------+-----------------+-------------+--------------------+------------+-------------+-------------+----+-------------+-------------+----+------------------+------------------+----------------+------------+----+-----+----------+---------------+----+------+------------------------+------------------------+-----------------+--------------------+-------------------+---------+-------------------+------+---------+--------+-------------------+----------+--------+----+\n",
      "only showing top 20 rows\n",
      "\n"
     ]
    }
   ],
   "source": [
    "df_pyspark.show() "
   ]
  },
  {
   "cell_type": "code",
   "execution_count": 38,
   "metadata": {},
   "outputs": [
    {
     "data": {
      "text/plain": [
       "3917"
      ]
     },
     "execution_count": 38,
     "metadata": {},
     "output_type": "execute_result"
    }
   ],
   "source": [
    "df_pyspark.count() "
   ]
  },
  {
   "cell_type": "code",
   "execution_count": 29,
   "metadata": {},
   "outputs": [
    {
     "name": "stdout",
     "output_type": "stream",
     "text": [
      "Number of columns: 84\n"
     ]
    }
   ],
   "source": [
    "num_columns = len(df_pyspark.columns)\n",
    "\n",
    "print(f\"Number of columns: {num_columns}\")"
   ]
  },
  {
   "cell_type": "code",
   "execution_count": 24,
   "metadata": {},
   "outputs": [
    {
     "name": "stdout",
     "output_type": "stream",
     "text": [
      "+----------+--------------+----+----+----------+--------------+------------+-----+----------+-------------------------------+-----+-------------+-------------------+-------+----+-------+---------------+---------------+---------------------+------------------------------------+----------------+-----------+-----------+---------------------------+----+----------------+---------------------+---------+----+-------+------------------+-----------------------+----+-------------------+-----------+-------+-----------------------+-----------------+----------+------+-----------------+------------+-------+------------------------------------+------+------------+---------------+----+----+-----------+-----------------+-------------+-----------------------------+------------+-------------+-------------+----+-------------+-------------+----+------------------+------------------+----------------+------------+----+-----+----------+---------------+----+------+------------------------+------------------------+-----------------+--------------------+-------------------+---------+-------------------+------+---------+--------+-------------------+----------+--------+----+\n",
      "|ID        |KIT_CODE      |SIM |_c3 |COMPLEMENT|FIRST_NAME    |LAST_NAME   |PHONE|PROFESSION|OFFRE                          |DEBIT|MODE_PAIEMENT|BIRTH_DATE         |COUNTRY|_c14|ID_TYPE|ENTREPRISE_NAME|ACTIVITY_DOMAIN|TRADE_REGISTER_NUMBER|ADDRESS                             |CITY            |GOVERNORATE|POSTAL_CODE|EMAIL                      |FAX |OPERATION_STATUS|OPERATION_STATUS_DATE|DEALER_ID|TYPE|USER_ID|TRANSACTION_STATUS|TRANSACTION_STATUS_DATE|_c32|CREATION_DATE      |NATIONALITY|MESSAGE|CONTRACT_RECEPTION_DATE|CONTRACT_RECIEVED|COMMISSION|AMOUNT|PAYMENT_REFERENCE|COMMISSIONED|ANOMALY|ID_BSCS_TRANSACTION                 |TMCODE|PACKAGE_TYPE|ACTIVATION_TYPE|IP  |_c48|CO_ID      |ADSL_LOGIN       |ADSL_PASSWORD|SIP_LOGIN                    |SIP_PASSWORD|DELEGATION   |NUM_SERIE_CLE|FLAG|DATE_MAJ_FLAG|FRAIS_RACCORD|PIN |LATITUDE          |LONGITUDE         |DATE_RENDEZ_VOUS|NOM_IMMEUBLE|BLOC|ETAGE|NUM_APPART|ONT_SN         |ONT |LEVEL4|TYPE_FILE_IDENTITE_RSCAN|TYPE_FILE_IDENTITE_VSCAN|TYPE_FILE_CONTRAT|TYPE_FILE_ABONNEMENT|TYPE_FILE_CONDITION|CASEID   |CASE_DATE          |SNCODE|BTS      |FLAG_BTS|DATE_UPDATE_BTS    |REPETITEUR|REP_FLAG|SLA |\n",
      "+----------+--------------+----+----+----------+--------------+------------+-----+----------+-------------------------------+-----+-------------+-------------------+-------+----+-------+---------------+---------------+---------------------+------------------------------------+----------------+-----------+-----------+---------------------------+----+----------------+---------------------+---------+----+-------+------------------+-----------------------+----+-------------------+-----------+-------+-----------------------+-----------------+----------+------+-----------------+------------+-------+------------------------------------+------+------------+---------------+----+----+-----------+-----------------+-------------+-----------------------------+------------+-------------+-------------+----+-------------+-------------+----+------------------+------------------+----------------+------------+----+-----+----------+---------------+----+------+------------------------+------------------------+-----------------+--------------------+-------------------+---------+-------------------+------+---------+--------+-------------------+----------+--------+----+\n",
      "|62 392 409|20200301753572|NULL|NULL|1         |ramzi         |rached      |NULL |NULL      |Pack Fixe Jdid 10Mbps (3 mois) |10M  |NULL         |02/21/1982 00:00:00|1      |NULL|2      |NULL           |NULL           |NULL                 |Moknine, Tunisie                    |MOKNINE         |MONASTIR   |5050       |3s.moknine@gmail.com       |NULL|0               |07/02/2024 11:13:07  |D32MO1007|1   |3 976  |0                 |07/02/2024 11:13:07    |NULL|07/02/2024 11:13:07|NULL       |NULL   |NULL                   |0                |0         |0     |NULL             |1           |0      |1c6644ff-576d-4ffa-b48b-6610672c25a9|293   |NULL        |2              |NULL|NULL|106 558 574|NULL             |NULL         |NULL                         |NULL        |MOKNINE      |NULL         |0   |NULL         |N            |NULL|35.63611361448751 |10.89349453212431 |NULL            |NULL        |NULL|NULL |NULL      |868553060448288|NULL|0     |image/jpeg              |image/jpeg              |image/jpeg       |image/jpeg          |image/jpeg         |NULL     |NULL               |2 277 |MON1052_1|Y       |07/02/2024 11:13:19|NULL      |NULL    |NULL|\n",
      "|62 392 307|20200304423852|NULL|NULL|1         |OMAR          |ABDELKEFI   |NULL |NULL      |Pack Fixe Jdid 10Mbps (3 mois) |NULL |NULL         |08/10/1987 00:00:00|1      |NULL|1      |NULL           |NULL           |NULL                 |34.792108,10.715941                 |MERKEZ SAHNOUN  |SFAX       |3012       |omar.abdelkefi87@gmail.com |NULL|0               |07/02/2024 11:09:34  |D01SX1060|1   |3 082  |0                 |07/02/2024 11:09:34    |NULL|07/02/2024 11:09:33|NULL       |NULL   |NULL                   |0                |0         |0     |NULL             |1           |0      |6bbff4cd-1fcb-49ef-97af-43fb50e7767e|293   |NULL        |2              |NULL|NULL|106 558 480|NULL             |NULL         |NULL                         |NULL        |SFAX SUD     |NULL         |0   |NULL         |N            |NULL|34.792108         |10.715941         |NULL            |MILADI      |NULL|2    |22        |868553060303095|NULL|0     |application/pdf         |application/pdf         |application/pdf  |application/pdf     |application/pdf    |NULL     |NULL               |2 277 |SFX1024_2|Y       |07/02/2024 11:09:38|NULL      |NULL    |NULL|\n",
      "|62 391 994|20200304294397|NULL|NULL|1         |SAADIA        |JEBALI      |NULL |NULL      |Pack Fixe Jdid 10Mbps (3 mois) |10M  |NULL         |11/02/1953 00:00:00|1      |NULL|1      |NULL           |NULL           |NULL                 |Hammam Lif, Tunisie                 |HAMMAM LIF      |BEN AROUS  |2050       |saberal@gmail.com          |NULL|0               |07/02/2024 10:59:54  |D04TU1026|1   |889    |0                 |07/02/2024 10:59:54    |NULL|07/02/2024 10:59:54|NULL       |NULL   |NULL                   |0                |0         |0     |NULL             |1           |0      |44a15fd6-a657-4641-884d-f6377f5b7a00|293   |NULL        |2              |NULL|NULL|106 558 274|NULL             |NULL         |NULL                         |NULL        |HAMMAM LIF   |NULL         |0   |NULL         |N            |NULL|36.725926549968975|10.352044297669924|NULL            |NULL        |NULL|NULL |NULL      |868553060387635|NULL|0     |application/pdf         |application/pdf         |application/pdf  |application/pdf     |application/pdf    |NULL     |NULL               |2 277 |BAR1049_1|Y       |07/02/2024 10:59:57|NULL      |NULL    |NULL|\n",
      "|62 391 641|20200304263271|NULL|NULL|1         |lioua         |qendil      |NULL |NULL      |Pack Fixe Jdid 10Mbps (3 mois) |10M  |NULL         |09/27/1999 00:00:00|1      |NULL|1      |NULL           |NULL           |NULL                 |36.861814, 10.180372                |ARIANA          |ARIANA     |2080       |lioua@gmail.com            |NULL|0               |07/02/2024 10:45:59  |D29BE1020|1   |4 554  |0                 |07/02/2024 10:45:59    |NULL|07/02/2024 10:45:58|NULL       |NULL   |NULL                   |0                |0         |0     |NULL             |1           |0      |d4d0b566-2d1c-4dd7-9136-6e09341b80d6|293   |NULL        |2              |NULL|NULL|106 557 970|NULL             |NULL         |NULL                         |NULL        |ARIANA       |NULL         |0   |NULL         |N            |NULL|36.861814         |10.180372         |NULL            |NULL        |NULL|NULL |NULL      |868553060390282|NULL|0     |application/pdf         |application/pdf         |application/pdf  |application/pdf     |application/pdf    |NULL     |NULL               |2 277 |TUN1028_1|Y       |07/02/2024 10:46:03|NULL      |NULL    |NULL|\n",
      "|62 386 404|20200303380580|NULL|NULL|1         |SAMI          |METIMET     |NULL |NULL      |Pack Fixe Jdid 10Mbps (3 mois) |10M  |NULL         |05/11/1976 00:00:00|1      |NULL|1      |NULL           |NULL           |NULL                 |route de medenine hichem            |EL MOUENSA      |MEDENINE   |4144       |samimtimezz@gmail.com      |NULL|0               |07/01/2024 22:00:15  |D39MD1004|1   |4 476  |1                 |07/02/2024 10:34:10    |NULL|07/01/2024 22:00:14|NULL       |NULL   |NULL                   |0                |0         |0     |NULL             |1           |0      |cb72b176-4733-4ba8-a2d5-0a40d1141623|293   |NULL        |2              |NULL|NULL|106 554 632|NULL             |NULL         |NULL                         |NULL        |ZARZIS       |NULL         |0   |NULL         |N            |NULL|33.49008049461064 |11.074392547009904|NULL            |NULL        |NULL|NULL |NULL      |868553060336996|NULL|0     |application/pdf         |application/pdf         |application/pdf  |application/pdf     |application/pdf    |177691315|07/02/2024 10:34:10|2 277 |MED1041_3|Y       |07/01/2024 22:00:25|NULL      |NULL    |NULL|\n",
      "|62 386 286|20200304323523|NULL|NULL|1         |khawla        |bou namcha  |NULL |NULL      |Pack Fixe Jdid 10Mbps (3 mois) |10M  |NULL         |12/23/1996 00:00:00|1      |NULL|1      |NULL           |NULL           |NULL                 |elhzem                              |MIDOUN          |MEDENINE   |4116       |elmeyooredoo66@gmail.com   |NULL|0               |07/01/2024 21:51:19  |D01DJ1007|1   |1 532  |1                 |07/02/2024 10:33:39    |NULL|07/01/2024 21:51:19|NULL       |NULL   |NULL                   |0                |0         |0     |NULL             |1           |0      |c1190deb-1427-44d1-a5d0-a8f4260cd093|293   |NULL        |2              |NULL|NULL|106 554 584|NULL             |NULL         |NULL                         |NULL        |MIDOUN       |NULL         |0   |NULL         |N            |NULL|33.797515759392496|10.948175172683499|NULL            |M           |1   |1    |1         |868553060363008|NULL|0     |application/pdf         |application/pdf         |application/pdf  |application/pdf     |application/pdf    |177691313|07/02/2024 10:33:39|2 277 |MED1066_2|Y       |07/01/2024 21:51:26|NULL      |NULL    |NULL|\n",
      "|62 386 206|20200302817571|NULL|NULL|1         |Mohamed Lamine|BACHA       |NULL |NULL      |Pack Fixe Jdid 10Mbps (3 mois) |10M  |NULL         |06/14/1986 00:00:00|1      |NULL|1      |NULL           |NULL           |NULL                 |36.763416,10.281201                 |RADES MELIANE   |BEN AROUS  |2098       |medaminebacha138@gmail.com |NULL|0               |07/01/2024 21:34:21  |D22CB1008|1   |4 211  |1                 |07/02/2024 10:32:12    |NULL|07/01/2024 21:34:21|NULL       |NULL   |NULL                   |0                |0         |0     |NULL             |1           |0      |4168f839-3019-4f72-ab85-a36dd9631aa1|293   |NULL        |2              |NULL|NULL|106 554 545|NULL             |NULL         |NULL                         |NULL        |RADES        |NULL         |0   |NULL         |N            |NULL|36.763416         |10.281201         |NULL            |NULL        |NULL|NULL |NULL      |868553060413118|NULL|0     |image/jpeg              |application/pdf         |image/jpeg       |image/jpeg          |image/jpeg         |177691309|07/02/2024 10:32:12|2 277 |BAR1088_3|Y       |07/01/2024 21:34:31|NULL      |NULL    |NULL|\n",
      "|62 386 036|20200304323524|NULL|NULL|1         |azzedine      |ben  zayed  |NULL |NULL      |Pack Fixe Jdid 10Mbps (3 mois) |10M  |NULL         |05/28/1953 00:00:00|1      |NULL|1      |NULL           |NULL           |NULL                 |fatou                               |JERBA           |MEDENINE   |4180       |elmeyooredoo66@gmail.com   |NULL|0               |07/01/2024 21:19:47  |D01DJ1007|1   |1 532  |1                 |07/02/2024 10:31:44    |NULL|07/01/2024 21:19:47|NULL       |NULL   |NULL                   |0                |0         |0     |NULL             |1           |0      |9d8db51f-4274-4d66-a20c-bfc0b855faff|293   |NULL        |2              |NULL|NULL|106 554 486|NULL             |NULL         |NULL                         |NULL        |HOUMET ESSOUK|NULL         |0   |NULL         |N            |NULL|33.875147559637654|10.877691388503642|NULL            |M           |1   |1    |1         |868553060362893|NULL|0     |application/pdf         |application/pdf         |application/pdf  |application/pdf     |application/pdf    |177691308|07/02/2024 10:31:44|2 277 |MED1001_1|Y       |07/01/2024 21:19:54|NULL      |NULL    |NULL|\n",
      "|62 385 618|20200304323511|NULL|NULL|1         |mohamed ali   |lajimi      |NULL |NULL      |Pack Fixe Jdid 10Mbps (3 mois) |10M  |NULL         |07/20/1994 00:00:00|1      |NULL|1      |NULL           |NULL           |NULL                 |midoun                              |MIDOUN          |MEDENINE   |4116       |elmeyooredoo66@gmail.com   |NULL|0               |07/01/2024 20:46:41  |D01DJ1007|1   |1 532  |1                 |07/02/2024 10:31:16    |NULL|07/01/2024 20:46:41|NULL       |NULL   |NULL                   |0                |0         |0     |NULL             |1           |0      |39007859-88fc-4e9f-9056-760b764a28ee|293   |NULL        |2              |NULL|NULL|106 554 275|NULL             |NULL         |NULL                         |NULL        |MIDOUN       |NULL         |0   |NULL         |N            |NULL|33.80005407051999 |11.014736360013817|NULL            |M           |1   |1    |1         |868553060363149|NULL|0     |application/pdf         |application/pdf         |application/pdf  |application/pdf     |application/pdf    |177691305|07/02/2024 10:31:16|2 277 |MED1174_1|Y       |07/01/2024 20:46:50|NULL      |NULL    |NULL|\n",
      "|62 390 895|20200304319804|NULL|NULL|1         |HASSEN        |ABIDA       |NULL |NULL      |Pack Fixe Jdid 10Mbps (3 mois) |10M  |NULL         |02/12/1995 00:00:00|1      |NULL|1      |NULL           |NULL           |NULL                 |RTE TUNIS KM 9 CITE EL ONS          |SAKIET EZZIT    |SFAX       |3021       |Hassenabida0@gmail.com     |NULL|0               |07/02/2024 10:24:46  |D01SX1026|1   |1 450  |0                 |07/02/2024 10:24:46    |NULL|07/02/2024 10:24:46|NULL       |NULL   |NULL                   |0                |0         |0     |NULL             |1           |0      |50dc75f9-2ac2-4e8d-b821-6659a986a332|293   |NULL        |2              |NULL|NULL|106 557 498|NULL             |NULL         |NULL                         |NULL        |SAKIET EZZIT |NULL         |0   |NULL         |N            |NULL|34.824538241601495|10.756789183542637|NULL            |MAISON      |A   |1    |1         |868553060363057|NULL|0     |application/pdf         |application/pdf         |application/pdf  |application/pdf     |application/pdf    |NULL     |07/02/2024 10:34:42|2 277 |SFX1154_1|Y       |07/02/2024 10:24:52|NULL      |NULL    |NULL|\n",
      "|62 390 590|20200304062385|NULL|NULL|2         |imen          |nemer       |NULL |NULL      |Pack Fixe Jdid 10Mbps (3 mois) |10M  |NULL         |11/08/1992 00:00:00|1      |NULL|1      |NULL           |NULL           |NULL                 |36.84645403762731 11.087436972760067|KELIBIA         |NABEUL     |8090       |pierzp5@gmail.com          |NULL|0               |07/02/2024 10:10:29  |D01CB1015|1   |203    |0                 |07/02/2024 10:10:29    |NULL|07/02/2024 10:10:29|NULL       |NULL   |NULL                   |0                |0         |0     |NULL             |1           |0      |62b3b3be-21be-4203-bb66-23d4b3319560|293   |NULL        |2              |NULL|NULL|106 557 165|NULL             |NULL         |NULL                         |NULL        |KELIBIA      |NULL         |0   |NULL         |N            |NULL|36.84645403762731 |11.087436972760067|NULL            |0           |0   |0    |0         |868553060362943|NULL|0     |image/jpeg              |image/jpeg              |image/jpeg       |image/jpeg          |image/jpeg         |NULL     |07/02/2024 10:34:40|2 277 |NAB1019_2|Y       |07/02/2024 10:10:42|NULL      |NULL    |NULL|\n",
      "|62 389 476|20200302287702|NULL|NULL|1         |mongi         |mezdiari    |NULL |NULL      |Pack Fixe Jdid 10Mbps (12 mois)|10M  |NULL         |04/03/1961 00:00:00|1      |NULL|1      |NULL           |NULL           |NULL                 |33.795456, 11.011152                |MIDOUN          |MEDENINE   |4116       |mawahebabbassi258@gmail.com|NULL|0               |07/02/2024 09:30:12  |D11DJ1013|1   |4 662  |0                 |07/02/2024 09:30:12    |NULL|07/02/2024 09:30:12|NULL       |NULL   |NULL                   |0                |0         |0     |NULL             |1           |0      |811c7c6c-8e42-4170-ba1f-694dec89703a|293   |NULL        |2              |NULL|NULL|106 556 349|NULL             |NULL         |NULL                         |NULL        |MIDOUN       |NULL         |0   |NULL         |N            |NULL|33.795456         |11.011152         |NULL            |mongi       |1   |1    |1         |868553060321196|NULL|0     |image/jpeg              |image/jpeg              |image/jpeg       |image/jpeg          |image/jpeg         |NULL     |07/02/2024 10:34:14|2 277 |MED1174_1|Y       |07/02/2024 09:30:20|NULL      |NULL    |NULL|\n",
      "|62 385 062|20200304164131|NULL|NULL|1         |Ridha         |Bouzidi     |NULL |NULL      |Pack Fixe Jdid 10Mbps (3 mois) |10M  |NULL         |07/22/1977 00:00:00|1      |NULL|1      |NULL           |NULL           |NULL                 |Rue abdelazie thealbi sidi hassine  |SIDI HASSINE    |TUNIS      |1095       |techvisite2020@gmail.com   |NULL|0               |07/01/2024 20:11:52  |D32TU3021|1   |4 576  |1                 |07/02/2024 07:31:13    |NULL|07/01/2024 20:11:52|NULL       |NULL   |NULL                   |0                |0         |0     |NULL             |1           |0      |89707f16-cca9-439e-9ab3-42939726aca5|293   |NULL        |2              |NULL|NULL|106 553 902|NULL             |NULL         |NULL                         |NULL        |SIDI HASSINE |NULL         |0   |NULL         |N            |NULL|36.77372483550619 |10.108432289174528|NULL            |NULL        |NULL|NULL |NULL      |868553060345914|NULL|0     |image/jpeg              |image/jpeg              |image/jpeg       |image/jpeg          |image/jpeg         |177688670|07/02/2024 07:31:13|2 277 |TUN1101_2|Y       |07/01/2024 20:12:06|NULL      |NULL    |NULL|\n",
      "|62 383 010|20200304142154|NULL|NULL|2         |hamdi         |afifa       |NULL |NULL      |Pack Fixe Jdid 10Mbps (3 mois) |NULL |NULL         |01/10/1989 00:00:00|1      |NULL|1      |NULL           |NULL           |NULL                 |36.835391,10.1079131                |CITE ETTADHAMEN |ARIANA     |2041       |jandoubiwiem@gmail.com     |NULL|0               |07/01/2024 18:18:18  |D12TU2016|1   |433    |1                 |07/01/2024 20:32:01    |NULL|07/01/2024 18:18:18|NULL       |NULL   |NULL                   |0                |0         |0     |NULL             |1           |0      |967d464a-0f05-43af-a2da-6849e9679acb|293   |NULL        |2              |NULL|NULL|106 552 401|NULL             |NULL         |NULL                         |NULL        |ETTADHAMEN   |NULL         |0   |NULL         |N            |NULL|36.835391         |10.1079131        |NULL            |NULL        |NULL|NULL |NULL      |868553060292769|NULL|0     |image/jpeg              |image/jpeg              |image/jpeg       |image/jpeg          |image/jpeg         |177687160|07/01/2024 20:32:01|2 277 |TUN1086_3|Y       |07/01/2024 18:18:27|NULL      |NULL    |NULL|\n",
      "|62 382 170|20200303267631|NULL|NULL|1         |ali           |away        |NULL |NULL      |Pack Fixe Jdid 10Mbps (6 mois) |10M  |NULL         |10/14/1953 00:00:00|1      |NULL|1      |NULL           |NULL           |NULL                 |erriadh djerba                      |ERRIADH         |MEDENINE   |4146       |kjghk@kkjhj.fr             |NULL|0               |07/01/2024 17:42:11  |D01DJ1019|1   |3 152  |1                 |07/01/2024 20:31:14    |NULL|07/01/2024 17:42:11|NULL       |NULL   |NULL                   |0                |0         |0     |NULL             |1           |0      |e8227db1-3ba4-45fd-ba5a-8d1db4e600e7|293   |NULL        |2              |NULL|NULL|106 551 778|NULL             |NULL         |NULL                         |NULL        |HOUMET ESSOUK|NULL         |0   |NULL         |N            |NULL|33.8197370988828  |10.856584982999497|NULL            |1           |1   |1    |1         |868553060430831|NULL|0     |image/jpeg              |image/jpeg              |image/jpeg       |image/jpeg          |image/jpeg         |177687158|07/01/2024 20:31:14|2 277 |MED1135_2|Y       |07/01/2024 17:42:18|NULL      |NULL    |NULL|\n",
      "|62 381 530|ALCLB4174BCF  |NULL|NULL|1         |sana          |arbi        |NULL |NULL      |210                            |20M  |NULL         |06/29/1973 00:00:00|1      |NULL|1      |NULL           |NULL           |NULL                 |La Marsa, Tunisie                   |MARSA SAFSAF    |TUNIS      |2078       |souphonehouse44@gmail.com  |NULL|0               |07/01/2024 17:12:16  |D22TU1009|1   |3 523  |1                 |07/01/2024 20:00:08    |NULL|07/01/2024 17:12:16|NULL       |NULL   |NULL                   |0                |0         |0     |NULL             |1           |0      |26572636-5ffa-4b81-acf6-c82e767c3f41|210   |NULL        |NULL           |NULL|NULL|NULL       |xcajsnbz@tunet.tn|CcA3J45A     |21636704931@sip.tunisiana.com|f7a4xGQ8ka5b|LA MARSA     |NULL         |0   |NULL         |N            |NULL|36.883869093765576|10.334213658952324|NULL            |sana arbi   |NULL|NULL |NULL      |ALCLB4174BCF   |NULL|0     |image/jpeg              |image/jpeg              |image/jpeg       |image/jpeg          |image/jpeg         |177686677|07/01/2024 20:00:08|2 118 |NULL     |NULL    |NULL               |NULL      |NULL    |5   |\n",
      "|62 379 918|20200302943123|NULL|NULL|1         |SELIM         |ELKHANCHOUCH|NULL |NULL      |Pack Fixe Jdid 10Mbps (3 mois) |NULL |NULL         |05/30/1984 00:00:00|1      |NULL|1      |NULL           |NULL           |NULL                 |Houmt Souk, Tunisie                 |JERBA           |MEDENINE   |4180       |safatisafa9@gmail.com      |NULL|0               |07/01/2024 15:40:21  |D29DJ1005|1   |3 224  |1                 |07/01/2024 18:30:57    |NULL|07/01/2024 15:40:20|NULL       |NULL   |NULL                   |0                |0         |0     |NULL             |1           |0      |3159da5b-4986-4c0e-b6c2-194b1ebf38b5|293   |NULL        |2              |NULL|NULL|106 550 018|NULL             |NULL         |NULL                         |NULL        |HOUMET ESSOUK|NULL         |0   |NULL         |N            |NULL|33.886209085533466|10.854921986230485|NULL            |NULL        |1   |3    |4         |868553060359808|NULL|0     |image/jpeg              |image/jpeg              |image/jpeg       |image/jpeg          |image/jpeg         |177685818|07/01/2024 18:30:57|2 277 |MED1092_3|Y       |07/01/2024 15:40:27|NULL      |NULL    |NULL|\n",
      "|62 379 874|20200303966308|NULL|NULL|1         |BEN AMOR      |FAKHRI      |NULL |NULL      |Pack Fixe Jdid 10Mbps (3 mois) |NULL |NULL         |01/10/1997 00:00:00|1      |NULL|1      |NULL           |NULL           |NULL                 |33.528404 11.111069                 |ZARZIS          |MEDENINE   |4149       |FATHRI@GMAIL.COM           |NULL|0               |07/01/2024 15:37:37  |D04ZR1001|1   |906    |1                 |07/01/2024 18:30:32    |NULL|07/01/2024 15:37:37|NULL       |NULL   |NULL                   |0                |0         |0     |NULL             |1           |0      |4decee0a-535b-47af-a3eb-77181fc11b8f|293   |NULL        |2              |NULL|NULL|106 549 997|NULL             |NULL         |NULL                         |NULL        |ZARZIS       |NULL         |0   |NULL         |N            |NULL|33.528404         |11.111069         |NULL            |NULL        |NULL|NULL |NULL      |868553060299236|NULL|0     |image/jpeg              |image/jpeg              |image/jpeg       |image/jpeg          |image/jpeg         |177685816|07/01/2024 18:30:32|2 277 |MED1097_2|Y       |07/01/2024 15:37:45|NULL      |NULL    |NULL|\n",
      "|62 379 279|20200303267735|NULL|NULL|1         |khaled        |kharoui     |NULL |NULL      |Pack Fixe Jdid 10Mbps (3 mois) |NULL |NULL         |02/28/1975 00:00:00|1      |NULL|1      |NULL           |NULL           |NULL                 |33.588098 11.0764336                |CITE SANGHO     |MEDENINE   |4173       |kharoui@gmail.com          |NULL|0               |07/01/2024 14:30:21  |D04ZR1001|1   |906    |1                 |07/01/2024 16:31:36    |NULL|07/01/2024 14:30:21|NULL       |NULL   |NULL                   |0                |0         |0     |NULL             |1           |0      |c5928ed1-a380-4a91-aeb8-83adc309ec59|293   |NULL        |2              |NULL|NULL|106 549 320|NULL             |NULL         |NULL                         |NULL        |ZARZIS       |NULL         |0   |NULL         |N            |NULL|33.588098         |11.0764336        |NULL            |NULL        |NULL|NULL |NULL      |868553060305272|NULL|0     |image/jpeg              |image/jpeg              |image/jpeg       |image/jpeg          |image/jpeg         |177684103|07/01/2024 16:31:36|2 277 |MED1031_1|Y       |07/01/2024 14:30:25|NULL      |NULL    |NULL|\n",
      "|62 378 734|20200300883877|NULL|NULL|1         |MAKRAM        |KHATIB      |NULL |NULL      |Pack Fixe Jdid 10Mbps (3 mois) |10M  |NULL         |03/05/1988 00:00:00|1      |NULL|1      |NULL           |NULL           |NULL                 |33.868756,10.113826                 |CITE EZZOUHOUR 1|GABES      |5020       |makramkhatib@gmail.com     |NULL|0               |07/01/2024 13:35:43  |D11GB1016|1   |4 362  |1                 |07/01/2024 16:31:08    |NULL|07/01/2024 13:35:43|NULL       |NULL   |NULL                   |0                |0         |0     |NULL             |1           |0      |88c0f16d-e334-4162-b76a-3ccafd2ab3b2|293   |NULL        |2              |NULL|NULL|106 548 594|NULL             |NULL         |NULL                         |NULL        |GABES SUD    |NULL         |0   |NULL         |N            |NULL|33.868756         |10.113826         |NULL            |NULL        |NULL|NULL |NULL      |868553060283677|NULL|0     |image/jpeg              |image/jpeg              |image/jpeg       |image/jpeg          |image/jpeg         |177684101|07/01/2024 16:31:08|2 277 |GAB1133_1|Y       |07/01/2024 13:35:51|NULL      |NULL    |NULL|\n",
      "+----------+--------------+----+----+----------+--------------+------------+-----+----------+-------------------------------+-----+-------------+-------------------+-------+----+-------+---------------+---------------+---------------------+------------------------------------+----------------+-----------+-----------+---------------------------+----+----------------+---------------------+---------+----+-------+------------------+-----------------------+----+-------------------+-----------+-------+-----------------------+-----------------+----------+------+-----------------+------------+-------+------------------------------------+------+------------+---------------+----+----+-----------+-----------------+-------------+-----------------------------+------------+-------------+-------------+----+-------------+-------------+----+------------------+------------------+----------------+------------+----+-----+----------+---------------+----+------+------------------------+------------------------+-----------------+--------------------+-------------------+---------+-------------------+------+---------+--------+-------------------+----------+--------+----+\n",
      "only showing top 20 rows\n",
      "\n"
     ]
    }
   ],
   "source": [
    "df_pyspark.show(truncate=False)"
   ]
  },
  {
   "cell_type": "code",
   "execution_count": 25,
   "metadata": {},
   "outputs": [],
   "source": [
    "null_columns = []\n",
    "for column in df_pyspark.columns:\n",
    "    \n",
    "    null_count = df_pyspark.filter(col(column).isNull() | isnan(col(column))).count()\n",
    "    if null_count == df_pyspark.count():\n",
    "        null_columns.append(column)\n",
    "\n",
    "num_null_columns = len(null_columns)"
   ]
  },
  {
   "cell_type": "code",
   "execution_count": 30,
   "metadata": {},
   "outputs": [
    {
     "name": "stdout",
     "output_type": "stream",
     "text": [
      "Number of columns with all null values: 20\n",
      "Columns with all null values: ['SIM', '_c3', 'PHONE', 'PROFESSION', '_c14', 'ENTREPRISE_NAME', 'ACTIVITY_DOMAIN', 'TRADE_REGISTER_NUMBER', 'FAX', '_c32', 'NATIONALITY', 'MESSAGE', 'CONTRACT_RECEPTION_DATE', 'PAYMENT_REFERENCE', 'PACKAGE_TYPE', 'IP', '_c48', 'NUM_SERIE_CLE', 'DATE_MAJ_FLAG', 'PIN']\n"
     ]
    }
   ],
   "source": [
    "print(f\"Number of columns with all null values: {num_null_columns}\")\n",
    "print(f\"Columns with all null values: {null_columns}\")"
   ]
  },
  {
   "cell_type": "code",
   "execution_count": 31,
   "metadata": {},
   "outputs": [
    {
     "name": "stdout",
     "output_type": "stream",
     "text": [
      "Column names:\n",
      "ID\n",
      "KIT_CODE\n",
      "SIM\n",
      "_c3\n",
      "COMPLEMENT\n",
      "FIRST_NAME\n",
      "LAST_NAME\n",
      "PHONE\n",
      "PROFESSION\n",
      "OFFRE\n",
      "DEBIT\n",
      "MODE_PAIEMENT\n",
      "BIRTH_DATE\n",
      "COUNTRY\n",
      "_c14\n",
      "ID_TYPE\n",
      "ENTREPRISE_NAME\n",
      "ACTIVITY_DOMAIN\n",
      "TRADE_REGISTER_NUMBER\n",
      "ADDRESS\n",
      "CITY\n",
      "GOVERNORATE\n",
      "POSTAL_CODE\n",
      "EMAIL\n",
      "FAX\n",
      "OPERATION_STATUS\n",
      "OPERATION_STATUS_DATE\n",
      "DEALER_ID\n",
      "TYPE\n",
      "USER_ID\n",
      "TRANSACTION_STATUS\n",
      "TRANSACTION_STATUS_DATE\n",
      "_c32\n",
      "CREATION_DATE\n",
      "NATIONALITY\n",
      "MESSAGE\n",
      "CONTRACT_RECEPTION_DATE\n",
      "CONTRACT_RECIEVED\n",
      "COMMISSION\n",
      "AMOUNT\n",
      "PAYMENT_REFERENCE\n",
      "COMMISSIONED\n",
      "ANOMALY\n",
      "ID_BSCS_TRANSACTION\n",
      "TMCODE\n",
      "PACKAGE_TYPE\n",
      "ACTIVATION_TYPE\n",
      "IP\n",
      "_c48\n",
      "CO_ID\n",
      "ADSL_LOGIN\n",
      "ADSL_PASSWORD\n",
      "SIP_LOGIN\n",
      "SIP_PASSWORD\n",
      "DELEGATION\n",
      "NUM_SERIE_CLE\n",
      "FLAG\n",
      "DATE_MAJ_FLAG\n",
      "FRAIS_RACCORD\n",
      "PIN\n",
      "LATITUDE\n",
      "LONGITUDE\n",
      "DATE_RENDEZ_VOUS\n",
      "NOM_IMMEUBLE\n",
      "BLOC\n",
      "ETAGE\n",
      "NUM_APPART\n",
      "ONT_SN\n",
      "ONT\n",
      "LEVEL4\n",
      "TYPE_FILE_IDENTITE_RSCAN\n",
      "TYPE_FILE_IDENTITE_VSCAN\n",
      "TYPE_FILE_CONTRAT\n",
      "TYPE_FILE_ABONNEMENT\n",
      "TYPE_FILE_CONDITION\n",
      "CASEID\n",
      "CASE_DATE\n",
      "SNCODE\n",
      "BTS\n",
      "FLAG_BTS\n",
      "DATE_UPDATE_BTS\n",
      "REPETITEUR\n",
      "REP_FLAG\n",
      "SLA\n"
     ]
    }
   ],
   "source": [
    "column_names = df_pyspark.columns\n",
    "print(\"Column names:\")\n",
    "for col_name in column_names:\n",
    "    print(col_name)"
   ]
  },
  {
   "cell_type": "code",
   "execution_count": 40,
   "metadata": {},
   "outputs": [],
   "source": [
    "columns_to_drop = [\"_c3\", \"_c14\", \"_c32\", \"_c48\"]\n",
    "df_pyspark = df_pyspark.drop(*columns_to_drop)"
   ]
  },
  {
   "cell_type": "code",
   "execution_count": 41,
   "metadata": {},
   "outputs": [
    {
     "name": "stdout",
     "output_type": "stream",
     "text": [
      "Schema after dropping columns:\n",
      "root\n",
      " |-- ID: string (nullable = true)\n",
      " |-- KIT_CODE: string (nullable = true)\n",
      " |-- SIM: string (nullable = true)\n",
      " |-- COMPLEMENT: integer (nullable = true)\n",
      " |-- FIRST_NAME: string (nullable = true)\n",
      " |-- LAST_NAME: string (nullable = true)\n",
      " |-- PHONE: string (nullable = true)\n",
      " |-- PROFESSION: string (nullable = true)\n",
      " |-- OFFRE: string (nullable = true)\n",
      " |-- DEBIT: string (nullable = true)\n",
      " |-- MODE_PAIEMENT: integer (nullable = true)\n",
      " |-- BIRTH_DATE: string (nullable = true)\n",
      " |-- COUNTRY: integer (nullable = true)\n",
      " |-- ID_TYPE: integer (nullable = true)\n",
      " |-- ENTREPRISE_NAME: string (nullable = true)\n",
      " |-- ACTIVITY_DOMAIN: string (nullable = true)\n",
      " |-- TRADE_REGISTER_NUMBER: string (nullable = true)\n",
      " |-- ADDRESS: string (nullable = true)\n",
      " |-- CITY: string (nullable = true)\n",
      " |-- GOVERNORATE: string (nullable = true)\n",
      " |-- POSTAL_CODE: integer (nullable = true)\n",
      " |-- EMAIL: string (nullable = true)\n",
      " |-- FAX: string (nullable = true)\n",
      " |-- OPERATION_STATUS: integer (nullable = true)\n",
      " |-- OPERATION_STATUS_DATE: string (nullable = true)\n",
      " |-- DEALER_ID: string (nullable = true)\n",
      " |-- TYPE: integer (nullable = true)\n",
      " |-- USER_ID: string (nullable = true)\n",
      " |-- TRANSACTION_STATUS: integer (nullable = true)\n",
      " |-- TRANSACTION_STATUS_DATE: string (nullable = true)\n",
      " |-- CREATION_DATE: string (nullable = true)\n",
      " |-- NATIONALITY: string (nullable = true)\n",
      " |-- MESSAGE: string (nullable = true)\n",
      " |-- CONTRACT_RECEPTION_DATE: string (nullable = true)\n",
      " |-- CONTRACT_RECIEVED: integer (nullable = true)\n",
      " |-- COMMISSION: integer (nullable = true)\n",
      " |-- AMOUNT: integer (nullable = true)\n",
      " |-- PAYMENT_REFERENCE: string (nullable = true)\n",
      " |-- COMMISSIONED: integer (nullable = true)\n",
      " |-- ANOMALY: integer (nullable = true)\n",
      " |-- ID_BSCS_TRANSACTION: string (nullable = true)\n",
      " |-- TMCODE: integer (nullable = true)\n",
      " |-- PACKAGE_TYPE: string (nullable = true)\n",
      " |-- ACTIVATION_TYPE: integer (nullable = true)\n",
      " |-- IP: string (nullable = true)\n",
      " |-- CO_ID: string (nullable = true)\n",
      " |-- ADSL_LOGIN: string (nullable = true)\n",
      " |-- ADSL_PASSWORD: string (nullable = true)\n",
      " |-- SIP_LOGIN: string (nullable = true)\n",
      " |-- SIP_PASSWORD: string (nullable = true)\n",
      " |-- DELEGATION: string (nullable = true)\n",
      " |-- NUM_SERIE_CLE: string (nullable = true)\n",
      " |-- FLAG: integer (nullable = true)\n",
      " |-- DATE_MAJ_FLAG: string (nullable = true)\n",
      " |-- FRAIS_RACCORD: string (nullable = true)\n",
      " |-- PIN: string (nullable = true)\n",
      " |-- LATITUDE: string (nullable = true)\n",
      " |-- LONGITUDE: string (nullable = true)\n",
      " |-- DATE_RENDEZ_VOUS: string (nullable = true)\n",
      " |-- NOM_IMMEUBLE: string (nullable = true)\n",
      " |-- BLOC: string (nullable = true)\n",
      " |-- ETAGE: string (nullable = true)\n",
      " |-- NUM_APPART: string (nullable = true)\n",
      " |-- ONT_SN: string (nullable = true)\n",
      " |-- ONT: string (nullable = true)\n",
      " |-- LEVEL4: integer (nullable = true)\n",
      " |-- TYPE_FILE_IDENTITE_RSCAN: string (nullable = true)\n",
      " |-- TYPE_FILE_IDENTITE_VSCAN: string (nullable = true)\n",
      " |-- TYPE_FILE_CONTRAT: string (nullable = true)\n",
      " |-- TYPE_FILE_ABONNEMENT: string (nullable = true)\n",
      " |-- TYPE_FILE_CONDITION: string (nullable = true)\n",
      " |-- CASEID: integer (nullable = true)\n",
      " |-- CASE_DATE: string (nullable = true)\n",
      " |-- SNCODE: string (nullable = true)\n",
      " |-- BTS: string (nullable = true)\n",
      " |-- FLAG_BTS: string (nullable = true)\n",
      " |-- DATE_UPDATE_BTS: string (nullable = true)\n",
      " |-- REPETITEUR: string (nullable = true)\n",
      " |-- REP_FLAG: string (nullable = true)\n",
      " |-- SLA: integer (nullable = true)\n",
      "\n"
     ]
    }
   ],
   "source": [
    "print(\"Schema after dropping unnamed columns:\")\n",
    "df_pyspark.printSchema()"
   ]
  }
 ],
 "metadata": {
  "kernelspec": {
   "display_name": "Python 3",
   "language": "python",
   "name": "python3"
  },
  "language_info": {
   "codemirror_mode": {
    "name": "ipython",
    "version": 3
   },
   "file_extension": ".py",
   "mimetype": "text/x-python",
   "name": "python",
   "nbconvert_exporter": "python",
   "pygments_lexer": "ipython3",
   "version": "3.12.1"
  }
 },
 "nbformat": 4,
 "nbformat_minor": 2
}
